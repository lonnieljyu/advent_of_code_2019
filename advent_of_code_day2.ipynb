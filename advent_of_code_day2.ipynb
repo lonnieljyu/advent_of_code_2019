{
  "nbformat": 4,
  "nbformat_minor": 0,
  "metadata": {
    "colab": {
      "name": "advent_of_code_day2.ipynb",
      "provenance": [],
      "collapsed_sections": [],
      "include_colab_link": true
    },
    "kernelspec": {
      "name": "python3",
      "display_name": "Python 3"
    }
  },
  "cells": [
    {
      "cell_type": "markdown",
      "metadata": {
        "id": "view-in-github",
        "colab_type": "text"
      },
      "source": [
        "<a href=\"https://colab.research.google.com/github/lonnieljyu/advent_of_code_2019/blob/develop/advent_of_code_day2.ipynb\" target=\"_parent\"><img src=\"https://colab.research.google.com/assets/colab-badge.svg\" alt=\"Open In Colab\"/></a>"
      ]
    },
    {
      "cell_type": "code",
      "metadata": {
        "id": "yP9WzdUjP-w8",
        "colab_type": "code",
        "colab": {
          "base_uri": "https://localhost:8080/",
          "height": 122
        },
        "outputId": "c86d639e-88b3-41d7-f284-c4fa4ad54453"
      },
      "source": [
        "from google.colab import drive\n",
        "drive.mount('/content/drive')\n",
        "\n",
        "input_path = '/content/drive/My Drive/Advent of Code/2019/day2.txt'"
      ],
      "execution_count": 1,
      "outputs": [
        {
          "output_type": "stream",
          "text": [
            "Go to this URL in a browser: https://accounts.google.com/o/oauth2/auth?client_id=947318989803-6bn6qk8qdgf4n4g3pfee6491hc0brc4i.apps.googleusercontent.com&redirect_uri=urn%3aietf%3awg%3aoauth%3a2.0%3aoob&response_type=code&scope=email%20https%3a%2f%2fwww.googleapis.com%2fauth%2fdocs.test%20https%3a%2f%2fwww.googleapis.com%2fauth%2fdrive%20https%3a%2f%2fwww.googleapis.com%2fauth%2fdrive.photos.readonly%20https%3a%2f%2fwww.googleapis.com%2fauth%2fpeopleapi.readonly\n",
            "\n",
            "Enter your authorization code:\n",
            "··········\n",
            "Mounted at /content/drive\n"
          ],
          "name": "stdout"
        }
      ]
    },
    {
      "cell_type": "markdown",
      "metadata": {
        "id": "Gx6Z48YZQLpC",
        "colab_type": "text"
      },
      "source": [
        "#--- Day 2: 1202 Program Alarm ---\n",
        "On the way to your gravity assist around the Moon, your ship computer beeps angrily about a \"1202 program alarm\". On the radio, an Elf is already explaining how to handle the situation: \"Don't worry, that's perfectly norma--\" The ship computer bursts into flames.\n",
        "\n",
        "You notify the Elves that the computer's magic smoke seems to have escaped. \"That computer ran **Intcode** programs like the gravity assist program it was working on; surely there are enough spare parts up there to build a new Intcode computer!\"\n",
        "\n",
        "An Intcode program is a list of integers separated by commas (like 1,0,0,3,99). To run one, start by looking at the first integer (called position 0). Here, you will find an **opcode** - either 1, 2, or 99. The opcode indicates what to do; for example, 99 means that the program is finished and should immediately halt. Encountering an unknown opcode means something went wrong.\n",
        "\n",
        "Opcode 1 **adds** together numbers read from two positions and stores the result in a third position. The three integers **immediately after** the opcode tell you these three **positions** - the first two indicate the positions from which you should read the input values, and the third indicates the **position** at which the output should be stored.\n",
        "\n",
        "For example, if your Intcode computer encounters 1,10,20,30, it should read the values at positions 10 and 20, add those values, and then overwrite the value at position 30 with their sum.\n",
        "\n",
        "Opcode 2 works exactly like opcode 1, except it **multiplies** the two inputs instead of adding them. Again, the three integers after the opcode indicate **where** the inputs and outputs are, not their values.\n",
        "\n",
        "Once you're done processing an opcode, **move to the next one** by stepping forward 4 positions.\n",
        "\n",
        "For example, suppose you have the following program:\n",
        "\n",
        "1,9,10,3,2,3,11,0,99,30,40,50\n",
        "\n",
        "For the purposes of illustration, here is the same program split into multiple lines:\n",
        "\n",
        "1,9,10,3,  \n",
        "2,3,11,0,  \n",
        "99,  \n",
        "30,40,50  \n",
        "\n",
        "The first four integers, 1,9,10,3, are at positions 0, 1, 2, and 3. Together, they represent the first opcode (1, addition), the positions of the two inputs (9 and 10), and the position of the output (3). To handle this opcode, you first need to get the values at the input positions: position 9 contains 30, and position 10 contains 40. **Add** these numbers together to get 70. Then, store this value at the output position; here, the output position (3) is at position 3, so it overwrites itself. Afterward, the program looks like this:\n",
        "\n",
        "1,9,10,**70**,  \n",
        "2,3,11,0,  \n",
        "99,  \n",
        "30,40,50  \n",
        "\n",
        "Step forward 4 positions to reach the next opcode, 2. This opcode works just like the previous, but it multiplies instead of adding. The inputs are at positions 3 and 11; these positions contain 70 and 50 respectively. Multiplying these produces 3500; this is stored at position 0:\n",
        "\n",
        "**3500**,9,10,70,  \n",
        "2,3,11,0,  \n",
        "99,  \n",
        "30,40,50  \n",
        "\n",
        "Stepping forward 4 more positions arrives at opcode 99, halting the program.\n",
        "\n",
        "Here are the initial and final states of a few more small programs:\n",
        "\n",
        "> 1,0,0,0,99 becomes **2**,0,0,0,99 (1 + 1 = 2).\n",
        "\n",
        "> 2,3,0,3,99 becomes 2,3,0,**6**,99 (3 * 2 = 6).\n",
        "\n",
        "> 2,4,4,5,99,0 becomes 2,4,4,5,99,**9801** (99 * 99 = 9801).\n",
        "\n",
        "> 1,1,1,4,99,5,6,0,99 becomes **30**,1,1,4,2,5,6,0,99.\n",
        "\n",
        "Once you have a working computer, the first step is to restore the gravity assist program (your puzzle input) to the \"1202 program alarm\" state it had just before the last computer caught fire. To do this, **before running the program**, replace position 1 with the value 12 and replace position 2 with the value 2. **What value is left at position 0** after the program halts?"
      ]
    },
    {
      "cell_type": "code",
      "metadata": {
        "id": "XKbxPntMR6v6",
        "colab_type": "code",
        "colab": {
          "base_uri": "https://localhost:8080/",
          "height": 71
        },
        "outputId": "b19d9a92-4049-4727-bcce-87a804e14c96"
      },
      "source": [
        "\"\"\"Run intcode program and return final state.\n",
        "\n",
        "Time complexity: O(n)\n",
        "Space complexity: O(1) addtional space\n",
        "\"\"\"\n",
        "from pathlib import Path\n",
        "buffer = [int(code) for code in Path(input_path).read_text().split(',')]\n",
        "\n",
        "# Manually change buffer\n",
        "buffer[1:3] = [12, 2]\n",
        "print(buffer)\n",
        "\n",
        "def run_intcode_program(counter: int = 0, operand_1: int = 1, \n",
        "                        operand_2: int = 2, result: int = 3) -> None:\n",
        "    while counter < len(buffer) and buffer[counter] != 99:\n",
        "        if buffer[counter] == 1:\n",
        "            buffer[result] = buffer[operand_1] + buffer[operand_2]\n",
        "        elif buffer[counter] == 2:\n",
        "            buffer[result] = buffer[operand_1] * buffer[operand_2]\n",
        "        else:\n",
        "            raise Exception('Invalid state.')\n",
        "        counter += 4\n",
        "        operand_1, operand_2, result = (buffer[counter+1], buffer[counter+2], \n",
        "                                        buffer[counter+3])\n",
        "\n",
        "run_intcode_program()\n",
        "print(buffer)"
      ],
      "execution_count": 20,
      "outputs": [
        {
          "output_type": "stream",
          "text": [
            "[1, 12, 2, 3, 1, 1, 2, 3, 1, 3, 4, 3, 1, 5, 0, 3, 2, 1, 10, 19, 1, 19, 6, 23, 2, 23, 13, 27, 1, 27, 5, 31, 2, 31, 10, 35, 1, 9, 35, 39, 1, 39, 9, 43, 2, 9, 43, 47, 1, 5, 47, 51, 2, 13, 51, 55, 1, 55, 9, 59, 2, 6, 59, 63, 1, 63, 5, 67, 1, 10, 67, 71, 1, 71, 10, 75, 2, 75, 13, 79, 2, 79, 13, 83, 1, 5, 83, 87, 1, 87, 6, 91, 2, 91, 13, 95, 1, 5, 95, 99, 1, 99, 2, 103, 1, 103, 6, 0, 99, 2, 14, 0, 0]\n",
            "[3790645, 12, 2, 2, 1, 1, 2, 3, 1, 3, 4, 3, 1, 5, 0, 3, 2, 1, 10, 48, 1, 19, 6, 50, 2, 23, 13, 250, 1, 27, 5, 251, 2, 31, 10, 1004, 1, 9, 35, 1007, 1, 39, 9, 1010, 2, 9, 43, 3030, 1, 5, 47, 3031, 2, 13, 51, 15155, 1, 55, 9, 15158, 2, 6, 59, 30316, 1, 63, 5, 30317, 1, 10, 67, 30321, 1, 71, 10, 30325, 2, 75, 13, 151625, 2, 79, 13, 758125, 1, 5, 83, 758126, 1, 87, 6, 758128, 2, 91, 13, 3790640, 1, 5, 95, 3790641, 1, 99, 2, 3790643, 1, 103, 6, 0, 99, 2, 14, 0, 0]\n"
          ],
          "name": "stdout"
        }
      ]
    },
    {
      "cell_type": "markdown",
      "metadata": {
        "id": "-9P5YwGHXfNl",
        "colab_type": "text"
      },
      "source": [
        "# --- Part Two ---\n",
        "\"Good, the new computer seems to be working correctly! **Keep it nearby** during this mission - you'll probably use it again. Real Intcode computers support many more features than your new one, but we'll let you know what they are as you need them.\"\n",
        "\n",
        "\"However, your current priority should be to complete your gravity assist around the Moon. For this mission to succeed, we should settle on some terminology for the parts you've already built.\"\n",
        "\n",
        "Intcode programs are given as a list of integers; these values are used as the initial state for the computer's **memory**. When you run an Intcode program, make sure to start by initializing memory to the program's values. A position in memory is called an **address** (for example, the first value in memory is at \"address 0\").\n",
        "\n",
        "Opcodes (like 1, 2, or 99) mark the beginning of an **instruction**. The values used immediately after an opcode, if any, are called the instruction's **parameters**. For example, in the instruction 1,2,3,4, 1 is the opcode; 2, 3, and 4 are the parameters. The instruction 99 contains only an opcode and has no parameters.\n",
        "\n",
        "The address of the current instruction is called the **instruction pointer**; it starts at 0. After an instruction finishes, the instruction pointer increases by **the number of values in the instruction**; until you add more instructions to the computer, this is always 4 (1 opcode + 3 parameters) for the add and multiply instructions. (The halt instruction would increase the instruction pointer by 1, but it halts the program instead.)\n",
        "\n",
        "\"With terminology out of the way, we're ready to proceed. To complete the gravity assist, you need to **determine what pair of inputs produces the output 19690720**.\"\n",
        "\n",
        "The inputs should still be provided to the program by replacing the values at addresses 1 and 2, just like before. In this program, the value placed in address 1 is called the **noun**, and the value placed in address 2 is called the **verb**. Each of the two input values will be between 0 and 99, inclusive.\n",
        "\n",
        "Once the program has halted, its output is available at address 0, also just like before. Each time you try a pair of inputs, make sure you first **reset the computer's memory to the values in the program** (your puzzle input) - in other words, don't reuse memory from a previous attempt.\n",
        "\n",
        "Find the input **noun** and **verb** that cause the program to produce the output 19690720. **What is 100 * noun + verb?** (For example, if noun=12 and verb=2, the answer would be 1202.)"
      ]
    },
    {
      "cell_type": "code",
      "metadata": {
        "id": "fl8C7IxaYK11",
        "colab_type": "code",
        "colab": {
          "base_uri": "https://localhost:8080/",
          "height": 34
        },
        "outputId": "84719f89-6c8e-4f95-e3d1-33966f6af48b"
      },
      "source": [
        "\"\"\"Brute force implementation.\n",
        "\n",
        "Time complexity: O(n^2)\n",
        "Space complexity: O(n) addtional space\n",
        "\"\"\"\n",
        "from typing import List\n",
        "from pathlib import Path\n",
        "memory = [int(code) for code in Path(input_path).read_text().split(',')]\n",
        "target_output = 19690720\n",
        "\n",
        "def get_intcode_output(memory: List[int], noun: int, verb: int, \n",
        "                       pointer: int = 0, param_1: int = 1, param_2: int = 2, \n",
        "                       result: int = 3) -> int:\n",
        "    memory[1:3] = [noun, verb]\n",
        "    while pointer < len(memory) and memory[pointer] != 99:\n",
        "        if memory[pointer] == 1:\n",
        "            memory[result] = memory[param_1] + memory[param_2]\n",
        "        elif memory[pointer] == 2:\n",
        "            memory[result] = memory[param_1] * memory[param_2]\n",
        "        else:\n",
        "            raise Exception('Invalid state.')\n",
        "        pointer += 4\n",
        "        param_1, param_2, result = (memory[pointer+1], memory[pointer+2], \n",
        "                                    memory[pointer+3])\n",
        "    return memory[0]\n",
        "\n",
        "def get_brute_force_answer(target: int) -> int:\n",
        "    for noun in range(100):\n",
        "        for verb in range(100):\n",
        "            if get_intcode_output(list(memory), noun, verb) == target:\n",
        "                return 100 * noun + verb\n",
        "\n",
        "print(get_brute_force_answer(target_output))"
      ],
      "execution_count": 51,
      "outputs": [
        {
          "output_type": "stream",
          "text": [
            "6577\n"
          ],
          "name": "stdout"
        }
      ]
    }
  ]
}