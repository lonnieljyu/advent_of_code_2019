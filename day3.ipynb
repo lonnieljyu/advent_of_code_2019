{
  "nbformat": 4,
  "nbformat_minor": 0,
  "metadata": {
    "colab": {
      "name": "advent_of_code_day3.ipynb",
      "provenance": [],
      "private_outputs": true,
      "collapsed_sections": [],
      "include_colab_link": true
    },
    "kernelspec": {
      "name": "python3",
      "display_name": "Python 3"
    }
  },
  "cells": [
    {
      "cell_type": "markdown",
      "metadata": {
        "id": "view-in-github",
        "colab_type": "text"
      },
      "source": [
        "<a href=\"https://colab.research.google.com/github/lonnieljyu/advent_of_code_2019/blob/day3/day3.ipynb\" target=\"_parent\"><img src=\"https://colab.research.google.com/assets/colab-badge.svg\" alt=\"Open In Colab\"/></a>"
      ]
    },
    {
      "cell_type": "code",
      "metadata": {
        "id": "kydIImbtkqBK",
        "colab_type": "code",
        "colab": {}
      },
      "source": [
        "from google.colab import drive\n",
        "drive.mount('/content/drive')\n",
        "\n",
        "input_path = '/content/drive/My Drive/Advent of Code/2019/day3.txt'"
      ],
      "execution_count": 0,
      "outputs": []
    },
    {
      "cell_type": "code",
      "metadata": {
        "id": "xuQEVGDQl57K",
        "colab_type": "code",
        "colab": {}
      },
      "source": [
        "from typing import Tuple\n",
        "\n",
        "def get_new_cursor(\n",
        "    cursor: Tuple[(int, int)], direction = str) -> Tuple[(int, int)]:\n",
        "    x_offset = y_offset = 0\n",
        "    if direction == 'R':\n",
        "        x_offset = 1\n",
        "    elif direction == 'L':\n",
        "        x_offset = -1\n",
        "    elif direction == 'U':\n",
        "        y_offset = 1\n",
        "    elif direction == 'D':\n",
        "        y_offset = -1\n",
        "    return cursor[0] + x_offset, cursor[1] + y_offset\n",
        "\n",
        "\n",
        "with open(input_path) as file:\n",
        "    lines = file.readlines()\n",
        "\n",
        "origin = cursor = (0, 0)\n",
        "path_coordinates = set()\n",
        "for segment in lines[0].split(','):\n",
        "    for _ in range(int(segment[1:])):\n",
        "        cursor = get_new_cursor(cursor, segment[0])\n",
        "        path_coordinates.add(cursor)\n",
        "\n",
        "\n",
        "cursor = origin\n",
        "min_distance = float('inf')\n",
        "for segment in lines[1].split(','):\n",
        "    for _ in range(int(segment[1:])):\n",
        "        cursor = get_new_cursor(cursor, segment[0])\n",
        "        if cursor in path_coordinates:\n",
        "            distance = abs(cursor[0]) + abs(cursor[1])\n",
        "            if distance < min_distance:\n",
        "                min_distance = distance\n",
        "print(min_distance)"
      ],
      "execution_count": 0,
      "outputs": []
    },
    {
      "cell_type": "code",
      "metadata": {
        "id": "-GOHIbUMsStw",
        "colab_type": "code",
        "colab": {}
      },
      "source": [
        "with open(input_path) as file:\n",
        "    lines = file.readlines()\n",
        "\n",
        "origin = cursor = (0, 0)\n",
        "path_dict = dict()\n",
        "steps = 0\n",
        "segments = lines[0].split(',')\n",
        "for segment in lines[0].split(','):\n",
        "    for _ in range(int(segment[1:])):\n",
        "        cursor = get_new_cursor(cursor, segment[0])\n",
        "        steps += 1\n",
        "        if cursor not in path_dict:\n",
        "            path_dict[cursor] = steps\n",
        "\n",
        "\n",
        "cursor = origin\n",
        "min_steps = float('inf')\n",
        "steps = 0\n",
        "for segment in lines[1].split(','):\n",
        "    for _ in range(int(segment[1:])):\n",
        "        cursor = get_new_cursor(cursor, segment[0])\n",
        "        steps += 1\n",
        "        if cursor in path_dict:\n",
        "            new_steps = steps + path_dict[cursor]\n",
        "            if new_steps < min_steps:\n",
        "                min_steps = new_steps\n",
        "print(min_steps)"
      ],
      "execution_count": 0,
      "outputs": []
    }
  ]
}