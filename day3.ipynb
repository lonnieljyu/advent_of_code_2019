{
  "nbformat": 4,
  "nbformat_minor": 0,
  "metadata": {
    "colab": {
      "name": "advent_of_code_day3.ipynb",
      "provenance": [],
      "private_outputs": true,
      "collapsed_sections": [],
      "include_colab_link": true
    },
    "kernelspec": {
      "name": "python3",
      "display_name": "Python 3"
    }
  },
  "cells": [
    {
      "cell_type": "markdown",
      "metadata": {
        "id": "view-in-github",
        "colab_type": "text"
      },
      "source": [
        "<a href=\"https://colab.research.google.com/github/lonnieljyu/advent_of_code_2019/blob/master/day3.ipynb\" target=\"_parent\"><img src=\"https://colab.research.google.com/assets/colab-badge.svg\" alt=\"Open In Colab\"/></a>"
      ]
    },
    {
      "cell_type": "code",
      "metadata": {
        "id": "kydIImbtkqBK",
        "colab_type": "code",
        "colab": {}
      },
      "source": [
        "from google.colab import drive\n",
        "drive.mount('/content/drive')\n",
        "\n",
        "input_path = '/content/drive/My Drive/Advent of Code/2019/day3.txt'"
      ],
      "execution_count": 0,
      "outputs": []
    },
    {
      "cell_type": "markdown",
      "metadata": {
        "id": "VNlvkqzdNt_D",
        "colab_type": "text"
      },
      "source": [
        "# --- Day 3: Crossed Wires ---\n",
        "The gravity assist was successful, and you're well on your way to the Venus refuelling station. During the rush back on Earth, the fuel management system wasn't completely installed, so that's next on the priority list.\n",
        "\n",
        "Opening the front panel reveals a jumble of wires. Specifically, two wires are connected to a central port and extend outward on a grid. You trace the path each wire takes as it leaves the central port, one wire per line of text (your puzzle input).\n",
        "\n",
        "The wires twist and turn, but the two wires occasionally cross paths. To fix the circuit, you need to find the intersection point closest to the central port. Because the wires are on a grid, use the Manhattan distance for this measurement. While the wires do technically cross right at the central port where they both start, this point does not count, nor does a wire count as crossing with itself.\n",
        "\n",
        "For example, if the first wire's path is R8,U5,L5,D3, then starting from the central port (o), it goes right 8, up 5, left 5, and finally down 3:\n",
        "\n",
        "...........  \n",
        "...........  \n",
        "...........  \n",
        "....+----+.  \n",
        "....|....|.  \n",
        "....|....|.  \n",
        "....|....|.  \n",
        ".........|.  \n",
        ".o-------+.  \n",
        "...........  \n",
        "\n",
        "Then, if the second wire's path is U7,R6,D4,L4, it goes up 7, right 6, down 4, and left 4:\n",
        "\n",
        "...........  \n",
        ".+-----+...  \n",
        ".|.....|...  \n",
        ".|..+--X-+.  \n",
        ".|..|..|.|.  \n",
        ".|.-X--+.|.  \n",
        ".|..|....|.  \n",
        ".|.......|.  \n",
        ".o-------+.  \n",
        "...........  \n",
        "\n",
        "These wires cross at two locations (marked X), but the lower-left one is closer to the central port: its distance is 3 + 3 = 6.\n",
        "\n",
        "Here are a few more examples:\n",
        "\n",
        "> R75,D30,R83,U83,L12,D49,R71,U7,L72\n",
        "U62,R66,U55,R34,D71,R55,D58,R83 = distance 159\n",
        "\n",
        "> R98,U47,R26,D63,R33,U87,L62,D20,R33,U53,R51\n",
        "U98,R91,D20,R16,D67,R40,U7,R15,U6,R7 = distance 135\n",
        "\n",
        "What is the Manhattan distance from the central port to the closest intersection?"
      ]
    },
    {
      "cell_type": "code",
      "metadata": {
        "id": "xuQEVGDQl57K",
        "colab_type": "code",
        "colab": {}
      },
      "source": [
        "\"\"\"\n",
        "Time complexity: O(n) for n distance moved from origin\n",
        "Space complexity: O(n) additional space\n",
        "\"\"\"\n",
        "from typing import Tuple\n",
        "\n",
        "def get_new_cursor(\n",
        "    cursor: Tuple[(int, int)], direction = str) -> Tuple[(int, int)]:\n",
        "    x_offset = 1 if direction == 'R' else -1 if direction == 'L' else 0\n",
        "    y_offset = 1 if direction == 'U' else -1 if direction == 'D' else 0\n",
        "    return cursor[0] + x_offset, cursor[1] + y_offset\n",
        "\n",
        "with open(input_path) as file:\n",
        "    lines = file.readlines()\n",
        "\n",
        "origin = cursor = (0, 0)\n",
        "path_coordinates = set()\n",
        "for segment in lines[0].split(','):\n",
        "    for _ in range(int(segment[1:])):\n",
        "        cursor = get_new_cursor(cursor, segment[0])\n",
        "        path_coordinates.add(cursor)\n",
        "\n",
        "\n",
        "cursor = origin\n",
        "min_distance = float('inf')\n",
        "for segment in lines[1].split(','):\n",
        "    for _ in range(int(segment[1:])):\n",
        "        cursor = get_new_cursor(cursor, segment[0])\n",
        "        if cursor in path_coordinates:\n",
        "            distance = abs(cursor[0]) + abs(cursor[1])\n",
        "            if distance < min_distance:\n",
        "                min_distance = distance\n",
        "print(min_distance)"
      ],
      "execution_count": 0,
      "outputs": []
    },
    {
      "cell_type": "markdown",
      "metadata": {
        "id": "33aZeE2xNvY0",
        "colab_type": "text"
      },
      "source": [
        "# --- Part Two ---\n",
        "It turns out that this circuit is very timing-sensitive; you actually need to minimize the signal delay.\n",
        "\n",
        "To do this, calculate the number of steps each wire takes to reach each intersection; choose the intersection where the sum of both wires' steps is lowest. If a wire visits a position on the grid multiple times, use the steps value from the first time it visits that position when calculating the total value of a specific intersection.\n",
        "\n",
        "The number of steps a wire takes is the total number of grid squares the wire has entered to get to that location, including the intersection being considered. Again consider the example from above:\n",
        "\n",
        "...........  \n",
        ".+-----+...  \n",
        ".|.....|...  \n",
        ".|..+--X-+.  \n",
        ".|..|..|.|.  \n",
        ".|.-X--+.|.  \n",
        ".|..|....|.  \n",
        ".|.......|.  \n",
        ".o-------+.  \n",
        "...........  \n",
        "\n",
        "In the above example, the intersection closest to the central port is reached after 8+5+5+2 = 20 steps by the first wire and 7+6+4+3 = 20 steps by the second wire for a total of 20+20 = 40 steps.\n",
        "\n",
        "However, the top-right intersection is better: the first wire takes only 8+5+2 = 15 and the second wire takes only 7+6+2 = 15, a total of 15+15 = 30 steps.\n",
        "\n",
        "Here are the best steps for the extra examples from above:\n",
        "\n",
        "> R75,D30,R83,U83,L12,D49,R71,U7,L72\n",
        "U62,R66,U55,R34,D71,R55,D58,R83 = 610 steps\n",
        "\n",
        "> R98,U47,R26,D63,R33,U87,L62,D20,R33,U53,R51\n",
        "U98,R91,D20,R16,D67,R40,U7,R15,U6,R7 = 410 steps\n",
        "\n",
        "What is the fewest combined steps the wires must take to reach an intersection?"
      ]
    },
    {
      "cell_type": "code",
      "metadata": {
        "id": "-GOHIbUMsStw",
        "colab_type": "code",
        "colab": {}
      },
      "source": [
        "\"\"\"\n",
        "Time complexity: O(n) for n steps moved from origin\n",
        "Space complexity: O(n) additional space\n",
        "\"\"\"\n",
        "with open(input_path) as file:\n",
        "    lines = file.readlines()\n",
        "\n",
        "origin = cursor = (0, 0)\n",
        "path_dict = dict()\n",
        "steps = 0\n",
        "segments = lines[0].split(',')\n",
        "for segment in lines[0].split(','):\n",
        "    for _ in range(int(segment[1:])):\n",
        "        cursor = get_new_cursor(cursor, segment[0])\n",
        "        steps += 1\n",
        "        if cursor not in path_dict:\n",
        "            path_dict[cursor] = steps\n",
        "\n",
        "\n",
        "cursor = origin\n",
        "min_steps = float('inf')\n",
        "steps = 0\n",
        "for segment in lines[1].split(','):\n",
        "    for _ in range(int(segment[1:])):\n",
        "        cursor = get_new_cursor(cursor, segment[0])\n",
        "        steps += 1\n",
        "        if cursor in path_dict:\n",
        "            new_steps = steps + path_dict[cursor]\n",
        "            if new_steps < min_steps:\n",
        "                min_steps = new_steps\n",
        "print(min_steps)"
      ],
      "execution_count": 0,
      "outputs": []
    }
  ]
}
