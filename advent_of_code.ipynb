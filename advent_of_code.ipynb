{
  "nbformat": 4,
  "nbformat_minor": 0,
  "metadata": {
    "colab": {
      "name": "advent_of_code.ipynb",
      "provenance": [],
      "private_outputs": true,
      "collapsed_sections": [],
      "include_colab_link": true
    },
    "kernelspec": {
      "name": "python3",
      "display_name": "Python 3"
    }
  },
  "cells": [
    {
      "cell_type": "markdown",
      "metadata": {
        "id": "view-in-github",
        "colab_type": "text"
      },
      "source": [
        "<a href=\"https://colab.research.google.com/github/lonnieljyu/advent_of_code_2019/blob/master/advent_of_code.ipynb\" target=\"_parent\"><img src=\"https://colab.research.google.com/assets/colab-badge.svg\" alt=\"Open In Colab\"/></a>"
      ]
    },
    {
      "cell_type": "code",
      "metadata": {
        "id": "JvtTSUPvkg_u",
        "colab_type": "code",
        "colab": {}
      },
      "source": [
        "from google.colab import drive\n",
        "drive.mount('/content/drive')"
      ],
      "execution_count": 0,
      "outputs": []
    },
    {
      "cell_type": "markdown",
      "metadata": {
        "id": "eBQUEh7ii4vs",
        "colab_type": "text"
      },
      "source": [
        "#--- Day 1: The Tyranny of the Rocket Equation ---\n",
        "Santa has become stranded at the edge of the Solar System while delivering presents to other planets! To accurately calculate his position in space, safely align his warp drive, and return to Earth in time to save Christmas, he needs you to bring him measurements from **fifty stars**.\n",
        "\n",
        "Collect stars by solving puzzles. Two puzzles will be made available on each day in the Advent calendar; the second puzzle is unlocked when you complete the first. Each puzzle grants **one star**. Good luck!"
      ]
    },
    {
      "cell_type": "markdown",
      "metadata": {
        "id": "-M5kXD6G6t-L",
        "colab_type": "text"
      },
      "source": [
        "##--- Part One ---\n",
        "\n",
        "The Elves quickly load you into a spacecraft and prepare to launch.\n",
        "\n",
        "At the first Go / No Go poll, every Elf is Go until the Fuel Counter-Upper. They haven't determined the amount of fuel required yet.\n",
        "\n",
        "Fuel required to launch a given **module** is based on its **mass**. Specifically, to find the fuel required for a module, take its mass, divide by three, round down, and subtract 2.\n",
        "\n",
        "For example:\n",
        "\n",
        "> For a mass of 12, divide by 3 and round down to get 4, then subtract 2 to get 2.\n",
        "\n",
        "> For a mass of 14, dividing by 3 and rounding down still yields 4, so the fuel required is also 2.\n",
        "\n",
        "> For a mass of 1969, the fuel required is 654.\n",
        "\n",
        "> For a mass of 100756, the fuel required is 33583.\n",
        "\n",
        "The Fuel Counter-Upper needs to know the total fuel requirement. To find it, individually calculate the fuel needed for the mass of each module (your puzzle input), then add together all the fuel values.\n",
        "\n",
        "###**What is the sum of the fuel requirements** for all of the modules on your spacecraft?"
      ]
    },
    {
      "cell_type": "code",
      "metadata": {
        "id": "dm_ADgc3lL9h",
        "colab_type": "code",
        "colab": {}
      },
      "source": [
        "\"\"\"Gets the sum of fuel requirements for each module's mass.\n",
        "\n",
        "Time complexity: O(n)\n",
        "Space complexity: O(1)\n",
        "\"\"\"\n",
        "\n",
        "def calculate_fuel_for_module_mass(mass: int) -> int:\n",
        "    \"\"\"Calculate the unit-less fuel requirement given a module's unit-less mass.\n",
        "\n",
        "    Fuel required = floor(mass / 3) - 2\n",
        "    \"\"\"\n",
        "    return mass // 3 - 2\n",
        "\n",
        "\n",
        "input_path = '/content/drive/My Drive/Advent of Code/2019/day1_part1.txt'\n",
        "total_fuel_required = 0\n",
        "with open(input_path) as file:\n",
        "    for mass in file:\n",
        "        total_fuel_required += calculate_fuel_for_module_mass(int(mass))\n",
        "\n",
        "print(total_fuel_required)"
      ],
      "execution_count": 0,
      "outputs": []
    },
    {
      "cell_type": "markdown",
      "metadata": {
        "id": "ACeh5B91tpMg",
        "colab_type": "text"
      },
      "source": [
        "##--- Part Two ---\n",
        "\n",
        "During the second Go / No Go poll, the Elf in charge of the Rocket Equation Double-Checker stops the launch sequence. Apparently, you forgot to include additional fuel for the fuel you just added.\n",
        "\n",
        "Fuel itself requires fuel just like a module - take its mass, divide by three, round down, and subtract 2. However, that fuel **also** requires fuel, and **that** fuel requires fuel, and so on. Any mass that would require **negative fuel** should instead be treated as if it requires **zero fuel**; the remaining mass, if any, is instead handled by **wishing really hard**, which has no mass and is outside the scope of this calculation.\n",
        "\n",
        "So, for each module mass, calculate its fuel and add it to the total. Then, treat the fuel amount you just calculated as the input mass and repeat the process, continuing until a fuel requirement is zero or negative. For example:\n",
        "\n",
        "> A module of mass 14 requires 2 fuel. This fuel requires no further fuel (2 divided by 3 and rounded down is 0, which would call for a negative fuel), so the total fuel required is still just 2.\n",
        "\n",
        "> At first, a module of mass 1969 requires 654 fuel. Then, this fuel requires 216 more fuel (654 / 3 - 2). 216 then requires 70 more fuel, which requires 21 fuel, which requires 5 fuel, which requires no further fuel. So, the total fuel required for a module of mass 1969 is 654 + 216 + 70 + 21 + 5 = 966.\n",
        "\n",
        "> The fuel required by a module of mass 100756 and its fuel is: 33583 + 11192 + 3728 + 1240 + 411 + 135 + 43 + 12 + 2 = 50346.\n",
        "\n",
        "###**What is the sum of the fuel requirements** for all of the modules on your spacecraft when also taking into account the mass of the added fuel? (Calculate the fuel requirements for each module separately, then add them all up at the end.)"
      ]
    },
    {
      "cell_type": "code",
      "metadata": {
        "id": "na7KTZxBzTUp",
        "colab_type": "code",
        "colab": {}
      },
      "source": [
        "\"\"\"Iterative implementation.\n",
        "\n",
        "Time complexity: O(n * lgm)\n",
        "Space complexity: O(1)\n",
        "\"\"\"\n",
        "\n",
        "def iteratively_calculate_field(mass: int) -> int:\n",
        "    fuel_required = 0\n",
        "    while(mass > 0):\n",
        "        mass = calculate_fuel_for_module_mass(mass)\n",
        "        fuel_required += mass if mass > 0 else 0\n",
        "    return fuel_required\n",
        "\n",
        "total_fuel_required = 0\n",
        "with open(input_path) as file:\n",
        "    for mass in file:\n",
        "        total_fuel_required += iteratively_calculate_field(int(mass))\n",
        "\n",
        "print(total_fuel_required)"
      ],
      "execution_count": 0,
      "outputs": []
    },
    {
      "cell_type": "code",
      "metadata": {
        "id": "36E9iJaI0GXi",
        "colab_type": "code",
        "colab": {}
      },
      "source": [
        "\"\"\"Recursive implementation with cache.\n",
        "\n",
        "Time complexity: O(n * lgm)\n",
        "Space complexity: O(m)\n",
        "\"\"\"\n",
        "mass_fuel_cache = {0: 0}\n",
        "\n",
        "def recur_calculate_field_with_cache(mass: int) -> int:\n",
        "    if mass < 0:\n",
        "        return 0\n",
        "    if mass not in mass_fuel_cache:\n",
        "        fuel = calculate_fuel_for_module_mass(mass)\n",
        "        if fuel < 0:\n",
        "            fuel = 0\n",
        "        mass_fuel_cache[mass] = fuel + recur_calculate_field_with_cache(fuel)\n",
        "    return mass_fuel_cache[mass]\n",
        "\n",
        "total_fuel_required = 0\n",
        "with open(input_path) as file:\n",
        "    for mass in file:\n",
        "        total_fuel_required += recur_calculate_field_with_cache(int(mass))\n",
        "\n",
        "print(total_fuel_required)"
      ],
      "execution_count": 0,
      "outputs": []
    }
  ]
}